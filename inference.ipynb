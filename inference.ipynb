{
 "cells": [
  {
   "cell_type": "code",
   "execution_count": 1,
   "id": "3c82ae08",
   "metadata": {},
   "outputs": [],
   "source": [
    "from stable_baselines3 import PPO, DQN, A2C\n",
    "import gymnasium as gym\n",
    "from stable_baselines3.common.logger import configure\n",
    "from stable_baselines3.common.evaluation import evaluate_policy"
   ]
  },
  {
   "cell_type": "markdown",
   "id": "a4242814",
   "metadata": {},
   "source": [
    "# Bipedal"
   ]
  },
  {
   "cell_type": "code",
   "execution_count": null,
   "id": "aa9a3f1d",
   "metadata": {},
   "outputs": [
    {
     "name": "stderr",
     "output_type": "stream",
     "text": [
      "c:\\Users\\gabri\\anaconda3\\envs\\rl\\lib\\site-packages\\stable_baselines3\\common\\on_policy_algorithm.py:150: UserWarning: You are trying to run PPO on the GPU, but it is primarily intended to run on the CPU when not using a CNN policy (you are using ActorCriticPolicy which should be a MlpPolicy). See https://github.com/DLR-RM/stable-baselines3/issues/1245 for more info. You can pass `device='cpu'` or `export CUDA_VISIBLE_DEVICES=` to force using the CPU.Note: The model will train, but the GPU utilization will be poor and the training might take longer than on CPU.\n",
      "  warnings.warn(\n"
     ]
    }
   ],
   "source": [
    "# Load model\n",
    "model = PPO.load(\"./saved_models/ppo-curriculum-bipedalwalker-2\")"
   ]
  },
  {
   "cell_type": "code",
   "execution_count": 3,
   "id": "a3fd6434",
   "metadata": {},
   "outputs": [
    {
     "name": "stderr",
     "output_type": "stream",
     "text": [
      "c:\\Users\\gabri\\anaconda3\\envs\\rl\\lib\\site-packages\\stable_baselines3\\common\\evaluation.py:67: UserWarning: Evaluation environment is not wrapped with a ``Monitor`` wrapper. This may result in reporting modified episode lengths and rewards, if other wrappers happen to modify these. Consider wrapping environment first with ``Monitor`` wrapper.\n",
      "  warnings.warn(\n"
     ]
    }
   ],
   "source": [
    "env_eval = gym.make(\"BipedalWalker-v3\",\n",
    "                    hardcore=False,\n",
    "                    render_mode=\"human\")\n",
    "\n",
    "mean_reward, std_reward = evaluate_policy(model, \n",
    "                                          env_eval, \n",
    "                                          n_eval_episodes=1,\n",
    "                                          render=True)\n",
    "env_eval.close()"
   ]
  },
  {
   "cell_type": "code",
   "execution_count": 4,
   "id": "c657e963",
   "metadata": {},
   "outputs": [
    {
     "name": "stderr",
     "output_type": "stream",
     "text": [
      "c:\\Users\\gabri\\anaconda3\\envs\\rl\\lib\\site-packages\\stable_baselines3\\common\\evaluation.py:67: UserWarning: Evaluation environment is not wrapped with a ``Monitor`` wrapper. This may result in reporting modified episode lengths and rewards, if other wrappers happen to modify these. Consider wrapping environment first with ``Monitor`` wrapper.\n",
      "  warnings.warn(\n"
     ]
    }
   ],
   "source": [
    "env_eval = gym.make(\"BipedalWalker-v3\",\n",
    "                    hardcore=True,\n",
    "                    render_mode=\"human\")\n",
    "\n",
    "mean_reward, std_reward = evaluate_policy(model, \n",
    "                                          env_eval, \n",
    "                                          n_eval_episodes=1,\n",
    "                                          render=True)\n",
    "env_eval.close()"
   ]
  },
  {
   "cell_type": "markdown",
   "id": "aad93d14",
   "metadata": {},
   "source": [
    "# LunarLander"
   ]
  },
  {
   "cell_type": "code",
   "execution_count": 5,
   "id": "92f573e9",
   "metadata": {},
   "outputs": [
    {
     "name": "stderr",
     "output_type": "stream",
     "text": [
      "c:\\Users\\gabri\\anaconda3\\envs\\rl\\lib\\site-packages\\stable_baselines3\\common\\on_policy_algorithm.py:150: UserWarning: You are trying to run PPO on the GPU, but it is primarily intended to run on the CPU when not using a CNN policy (you are using ActorCriticPolicy which should be a MlpPolicy). See https://github.com/DLR-RM/stable-baselines3/issues/1245 for more info. You can pass `device='cpu'` or `export CUDA_VISIBLE_DEVICES=` to force using the CPU.Note: The model will train, but the GPU utilization will be poor and the training might take longer than on CPU.\n",
      "  warnings.warn(\n"
     ]
    }
   ],
   "source": [
    "# Load model\n",
    "model_lunar = PPO.load(\"./saved_models/ppo_curriculum_lunar_long\")"
   ]
  },
  {
   "cell_type": "code",
   "execution_count": 9,
   "id": "d60f07bb",
   "metadata": {},
   "outputs": [],
   "source": [
    "env_eval = gym.make(\"LunarLander-v3\",\n",
    "                    render_mode=\"human\")\n",
    "\n",
    "mean_reward, std_reward = evaluate_policy(model_lunar, \n",
    "                                          env_eval, \n",
    "                                          n_eval_episodes=1,\n",
    "                                          render=True)\n",
    "env_eval.close()"
   ]
  }
 ],
 "metadata": {
  "kernelspec": {
   "display_name": "rl",
   "language": "python",
   "name": "python3"
  },
  "language_info": {
   "codemirror_mode": {
    "name": "ipython",
    "version": 3
   },
   "file_extension": ".py",
   "mimetype": "text/x-python",
   "name": "python",
   "nbconvert_exporter": "python",
   "pygments_lexer": "ipython3",
   "version": "3.10.16"
  }
 },
 "nbformat": 4,
 "nbformat_minor": 5
}
